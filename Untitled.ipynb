{
 "cells": [
  {
   "cell_type": "code",
   "execution_count": 44,
   "metadata": {},
   "outputs": [],
   "source": [
    "import requests\n",
    "import webbrowser\n",
    "import pandas as pd\n",
    "from datetime import datetime, timedelta\n",
    "import pytz"
   ]
  },
  {
   "cell_type": "code",
   "execution_count": null,
   "metadata": {},
   "outputs": [],
   "source": [
    "strava_auth_url = \"http://localhost:8000/api/auth/strava\"\n",
    "webbrowser.open(strava_auth_url)\n",
    "\n",
    "resp = requests.get(\"http://localhost:8000/api/activities?start_date=2023-09-30&end_date=2023-10-02\")\n",
    "activities = resp.json()"
   ]
  },
  {
   "cell_type": "code",
   "execution_count": 50,
   "metadata": {},
   "outputs": [],
   "source": [
    "activity_df_list = []\n",
    "df_keys = [\"heartrate\", \"time\", \"distance\"]\n",
    "for activity in activities[\"activities\"]:\n",
    "    timezone = pytz.timezone(activity[\"timezone\"].split(\" \")[1])\n",
    "    utc_timestamp = datetime.strptime(activity[\"start_date\"], '%Y-%m-%dT%H:%M:%SZ')\n",
    "    timestamp = timezone.localize(utc_timestamp)\n",
    "    \n",
    "    df = pd.DataFrame.from_dict({key: activity[key] for key in df_keys if key in activity})\n",
    "    df['local_datetime'] = timestamp + df['time'].apply(lambda x: timedelta(seconds=x))\n",
    "    df['utc_datetime'] = utc_timestamp + df['time'].apply(lambda x: timedelta(seconds=x))\n",
    "    activity_df_list.append(df)\n"
   ]
  },
  {
   "cell_type": "code",
   "execution_count": 84,
   "metadata": {},
   "outputs": [
    {
     "data": {
      "text/html": [
       "<div>\n",
       "<style scoped>\n",
       "    .dataframe tbody tr th:only-of-type {\n",
       "        vertical-align: middle;\n",
       "    }\n",
       "\n",
       "    .dataframe tbody tr th {\n",
       "        vertical-align: top;\n",
       "    }\n",
       "\n",
       "    .dataframe thead th {\n",
       "        text-align: right;\n",
       "    }\n",
       "</style>\n",
       "<table border=\"1\" class=\"dataframe\">\n",
       "  <thead>\n",
       "    <tr style=\"text-align: right;\">\n",
       "      <th></th>\n",
       "      <th>heartrate</th>\n",
       "      <th>time</th>\n",
       "      <th>distance</th>\n",
       "      <th>local_datetime</th>\n",
       "      <th>utc_datetime</th>\n",
       "    </tr>\n",
       "  </thead>\n",
       "  <tbody>\n",
       "    <tr>\n",
       "      <th>0</th>\n",
       "      <td>103</td>\n",
       "      <td>0</td>\n",
       "      <td>0</td>\n",
       "      <td>2023-10-01 08:46:47+02:00</td>\n",
       "      <td>2023-10-01 08:46:47</td>\n",
       "    </tr>\n",
       "    <tr>\n",
       "      <th>1</th>\n",
       "      <td>103</td>\n",
       "      <td>1</td>\n",
       "      <td>0</td>\n",
       "      <td>2023-10-01 08:46:48+02:00</td>\n",
       "      <td>2023-10-01 08:46:48</td>\n",
       "    </tr>\n",
       "    <tr>\n",
       "      <th>2</th>\n",
       "      <td>103</td>\n",
       "      <td>4</td>\n",
       "      <td>8</td>\n",
       "      <td>2023-10-01 08:46:51+02:00</td>\n",
       "      <td>2023-10-01 08:46:51</td>\n",
       "    </tr>\n",
       "    <tr>\n",
       "      <th>3</th>\n",
       "      <td>105</td>\n",
       "      <td>8</td>\n",
       "      <td>24</td>\n",
       "      <td>2023-10-01 08:46:55+02:00</td>\n",
       "      <td>2023-10-01 08:46:55</td>\n",
       "    </tr>\n",
       "    <tr>\n",
       "      <th>4</th>\n",
       "      <td>110</td>\n",
       "      <td>9</td>\n",
       "      <td>28</td>\n",
       "      <td>2023-10-01 08:46:56+02:00</td>\n",
       "      <td>2023-10-01 08:46:56</td>\n",
       "    </tr>\n",
       "    <tr>\n",
       "      <th>...</th>\n",
       "      <td>...</td>\n",
       "      <td>...</td>\n",
       "      <td>...</td>\n",
       "      <td>...</td>\n",
       "      <td>...</td>\n",
       "    </tr>\n",
       "    <tr>\n",
       "      <th>1459</th>\n",
       "      <td>196</td>\n",
       "      <td>7434</td>\n",
       "      <td>21151</td>\n",
       "      <td>2023-10-01 10:50:41+02:00</td>\n",
       "      <td>2023-10-01 10:50:41</td>\n",
       "    </tr>\n",
       "    <tr>\n",
       "      <th>1460</th>\n",
       "      <td>198</td>\n",
       "      <td>7439</td>\n",
       "      <td>21173</td>\n",
       "      <td>2023-10-01 10:50:46+02:00</td>\n",
       "      <td>2023-10-01 10:50:46</td>\n",
       "    </tr>\n",
       "    <tr>\n",
       "      <th>1461</th>\n",
       "      <td>199</td>\n",
       "      <td>7442</td>\n",
       "      <td>21189</td>\n",
       "      <td>2023-10-01 10:50:49+02:00</td>\n",
       "      <td>2023-10-01 10:50:49</td>\n",
       "    </tr>\n",
       "    <tr>\n",
       "      <th>1462</th>\n",
       "      <td>201</td>\n",
       "      <td>7448</td>\n",
       "      <td>21213</td>\n",
       "      <td>2023-10-01 10:50:55+02:00</td>\n",
       "      <td>2023-10-01 10:50:55</td>\n",
       "    </tr>\n",
       "    <tr>\n",
       "      <th>1463</th>\n",
       "      <td>201</td>\n",
       "      <td>7450</td>\n",
       "      <td>21220</td>\n",
       "      <td>2023-10-01 10:50:57+02:00</td>\n",
       "      <td>2023-10-01 10:50:57</td>\n",
       "    </tr>\n",
       "  </tbody>\n",
       "</table>\n",
       "<p>1464 rows × 5 columns</p>\n",
       "</div>"
      ],
      "text/plain": [
       "      heartrate  time  distance            local_datetime        utc_datetime\n",
       "0           103     0         0 2023-10-01 08:46:47+02:00 2023-10-01 08:46:47\n",
       "1           103     1         0 2023-10-01 08:46:48+02:00 2023-10-01 08:46:48\n",
       "2           103     4         8 2023-10-01 08:46:51+02:00 2023-10-01 08:46:51\n",
       "3           105     8        24 2023-10-01 08:46:55+02:00 2023-10-01 08:46:55\n",
       "4           110     9        28 2023-10-01 08:46:56+02:00 2023-10-01 08:46:56\n",
       "...         ...   ...       ...                       ...                 ...\n",
       "1459        196  7434     21151 2023-10-01 10:50:41+02:00 2023-10-01 10:50:41\n",
       "1460        198  7439     21173 2023-10-01 10:50:46+02:00 2023-10-01 10:50:46\n",
       "1461        199  7442     21189 2023-10-01 10:50:49+02:00 2023-10-01 10:50:49\n",
       "1462        201  7448     21213 2023-10-01 10:50:55+02:00 2023-10-01 10:50:55\n",
       "1463        201  7450     21220 2023-10-01 10:50:57+02:00 2023-10-01 10:50:57\n",
       "\n",
       "[1464 rows x 5 columns]"
      ]
     },
     "execution_count": 84,
     "metadata": {},
     "output_type": "execute_result"
    }
   ],
   "source": [
    "activity_df_list[0]"
   ]
  },
  {
   "cell_type": "code",
   "execution_count": 72,
   "metadata": {},
   "outputs": [
    {
     "data": {
      "text/plain": [
       "Timestamp('2023-10-01 10:50:57')"
      ]
     },
     "execution_count": 72,
     "metadata": {},
     "output_type": "execute_result"
    }
   ],
   "source": [
    "last_activity_timestamp"
   ]
  },
  {
   "cell_type": "code",
   "execution_count": 73,
   "metadata": {},
   "outputs": [],
   "source": [
    "first_activity_timestamp = activity_df_list[0].head(1)['utc_datetime'].item()\n",
    "unix_fats = (last_activity_timestamp - pd.Timestamp(\"1970-01-01\")) // pd.Timedelta('1s')"
   ]
  },
  {
   "cell_type": "code",
   "execution_count": 74,
   "metadata": {},
   "outputs": [
    {
     "data": {
      "text/plain": [
       "1696157457"
      ]
     },
     "execution_count": 74,
     "metadata": {},
     "output_type": "execute_result"
    }
   ],
   "source": [
    "unix_fats"
   ]
  },
  {
   "cell_type": "code",
   "execution_count": 86,
   "metadata": {},
   "outputs": [
    {
     "data": {
      "text/plain": [
       "True"
      ]
     },
     "execution_count": 86,
     "metadata": {},
     "output_type": "execute_result"
    }
   ],
   "source": [
    "spotify_auth_url = \"http://localhost:8000/api/auth/spotify\"\n",
    "webbrowser.open(spotify_auth_url)"
   ]
  },
  {
   "cell_type": "code",
   "execution_count": 87,
   "metadata": {},
   "outputs": [],
   "source": [
    "\n",
    "resp = requests.get(\"http://localhost:8000/api/tracks?end_date=1696177800000\")\n",
    "tracks = resp.json()"
   ]
  },
  {
   "cell_type": "code",
   "execution_count": 89,
   "metadata": {},
   "outputs": [
    {
     "data": {
      "text/plain": [
       "52"
      ]
     },
     "execution_count": 89,
     "metadata": {},
     "output_type": "execute_result"
    }
   ],
   "source": [
    "len(tracks[\"tracks\"])"
   ]
  },
  {
   "cell_type": "code",
   "execution_count": 83,
   "metadata": {},
   "outputs": [
    {
     "data": {
      "text/plain": [
       "{'id': '5CxiS0P4Lvtpxr0iGIRXZG',\n",
       " 'title': 'Gran Vals',\n",
       " 'artist': ['Francisco Tárrega', 'Giulio Tampalini'],\n",
       " 'album': 'Tarrega: Complete Works for Guitar',\n",
       " 'release_date': '2002-01-01',\n",
       " 'played_at': '2023-10-01T12:02:21.410Z',\n",
       " 'track_length': 159506,\n",
       " 'acousticness': 0.988,\n",
       " 'danceability': 0.491,\n",
       " 'energy': 0.0549,\n",
       " 'instrumentalness': 0.889,\n",
       " 'speechiness': 0.0665,\n",
       " 'tempo': 108.972,\n",
       " 'valence': 0.772}"
      ]
     },
     "execution_count": 83,
     "metadata": {},
     "output_type": "execute_result"
    }
   ],
   "source": [
    "tracks[\"tracks\"][51]"
   ]
  }
 ],
 "metadata": {
  "kernelspec": {
   "display_name": "Python 3",
   "language": "python",
   "name": "python3"
  },
  "language_info": {
   "codemirror_mode": {
    "name": "ipython",
    "version": 3
   },
   "file_extension": ".py",
   "mimetype": "text/x-python",
   "name": "python",
   "nbconvert_exporter": "python",
   "pygments_lexer": "ipython3",
   "version": "3.8.2"
  }
 },
 "nbformat": 4,
 "nbformat_minor": 4
}
